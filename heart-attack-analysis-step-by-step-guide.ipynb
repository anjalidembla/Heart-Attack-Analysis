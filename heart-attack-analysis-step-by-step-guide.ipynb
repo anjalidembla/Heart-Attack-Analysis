{
 "cells": [
  {
   "cell_type": "markdown",
   "id": "preceding-figure",
   "metadata": {
    "papermill": {
     "duration": 0.034508,
     "end_time": "2021-05-03T06:29:23.648042",
     "exception": false,
     "start_time": "2021-05-03T06:29:23.613534",
     "status": "completed"
    },
    "tags": []
   },
   "source": [
    "# Hear Attack Analysis and Prediction Dataset\n",
    "\n",
    "This dataset contains information about people and there chances of having a heart stroke.\n",
    "\n",
    "\n",
    " **Dataset Information:**\n",
    "\n",
    "\n",
    "\n",
    "\n",
    "\n",
    "* Age : Age of the patient\n",
    "* Sex : Sex of the patient\n",
    "* exang: exercise induced angina (1 = yes; 0 = no)\n",
    "* ca: number of major vessels (0-3)\n",
    "* cp : Chest Pain type chest pain type\n",
    "    * Value 1: typical angina\n",
    "    * Value 2: atypical angina\n",
    "    * Value 3: non-anginal pain\n",
    "    * Value 4: asymptomatic\n",
    "* trtbps : resting blood pressure (in mm Hg)\n",
    "* chol : cholestoral in mg/dl fetched via BMI sensor\n",
    "* fbs : (fasting blood sugar > 120 mg/dl) (1 = true; 0 = false)\n",
    "* rest_ecg : resting electrocardiographic results\n",
    "    * Value 0: normal\n",
    "    * Value 1: having ST-T wave abnormality (T wave inversions and/or ST elevation or depression of > 0.05 mV)\n",
    "    * Value 2: showing probable or definite left ventricular hypertrophy by Estes' criteria\n",
    "* thalach : maximum heart rate achieved\n",
    "* target : \n",
    "    * 0 = less chance of heart attack \n",
    "    * 1 = more chance of heart attack\n",
    "    \n",
    "    \n",
    "\n",
    "**Objective:**\n",
    "\n",
    "\n",
    "\n",
    "\n",
    "* With the dataset provided for heart analysis, we have to analyse the possibilities of heart attack on the basis of various features, and then the prediction from the analysis will tell us that whether an individual is prone to heart attack or not. \n",
    "* The detailed analysis can proceed with the exploratory data analysis (EDA). \n",
    "* The classification for predication can be done using various machine learning model algorithms, choose the best suited model for heart attack analysis and finally save the model in the pickle (.pkl) file.\n",
    "\n",
    "\n",
    "**Questions to be answered:**\n",
    "\n",
    "\n",
    "\n",
    "\n",
    "\n",
    "* Does the age of a person contribute towards heart attack?\n",
    "* Are different types of chest pain related to each other or the possibility of getting a heart attack?\n",
    "* Does high blood pressure increase the risk of heart attack?\n",
    "* Does the choestrol level eventually contribute as a risk factor towards heart attack?\n",
    "\n"
   ]
  },
  {
   "cell_type": "code",
   "execution_count": 1,
   "id": "alpha-cutting",
   "metadata": {
    "execution": {
     "iopub.execute_input": "2021-05-03T06:29:23.719222Z",
     "iopub.status.busy": "2021-05-03T06:29:23.718113Z",
     "iopub.status.idle": "2021-05-03T06:29:23.721624Z",
     "shell.execute_reply": "2021-05-03T06:29:23.721020Z"
    },
    "papermill": {
     "duration": 0.040972,
     "end_time": "2021-05-03T06:29:23.721778",
     "exception": false,
     "start_time": "2021-05-03T06:29:23.680806",
     "status": "completed"
    },
    "tags": []
   },
   "outputs": [],
   "source": [
    "# Heart Attack Analysis and Prediction Dataset\n",
    "# Date: April 26, 2021"
   ]
  },
  {
   "cell_type": "code",
   "execution_count": 2,
   "id": "female-intent",
   "metadata": {
    "execution": {
     "iopub.execute_input": "2021-05-03T06:29:23.790886Z",
     "iopub.status.busy": "2021-05-03T06:29:23.790225Z",
     "iopub.status.idle": "2021-05-03T06:29:25.123562Z",
     "shell.execute_reply": "2021-05-03T06:29:25.122990Z"
    },
    "papermill": {
     "duration": 1.368594,
     "end_time": "2021-05-03T06:29:25.123711",
     "exception": false,
     "start_time": "2021-05-03T06:29:23.755117",
     "status": "completed"
    },
    "tags": []
   },
   "outputs": [],
   "source": [
    "import numpy as np #linear algebra\n",
    "import pandas as pd #data processing\n",
    "\n",
    "import matplotlib.pyplot as plt #data visualization\n",
    "import seaborn as sns #data visualization\n",
    "\n",
    "import warnings\n",
    "warnings.filterwarnings(\"ignore\") #to ignore the warnings\n",
    "\n",
    "#for model building\n",
    "from sklearn.metrics import accuracy_score\n",
    "from sklearn.metrics import confusion_matrix\n",
    "from sklearn.preprocessing import StandardScaler\n",
    "from sklearn.linear_model import LogisticRegression\n",
    "from sklearn.neighbors import KNeighborsClassifier\n",
    "from sklearn.svm import SVC\n",
    "from sklearn.tree import DecisionTreeClassifier\n",
    "from sklearn.ensemble import RandomForestClassifier\n",
    "from sklearn.ensemble import GradientBoostingClassifier\n",
    "from sklearn.ensemble import AdaBoostClassifier\n",
    "import xgboost as xgb\n"
   ]
  },
  {
   "cell_type": "code",
   "execution_count": 3,
   "id": "stuffed-preservation",
   "metadata": {
    "execution": {
     "iopub.execute_input": "2021-05-03T06:29:25.194205Z",
     "iopub.status.busy": "2021-05-03T06:29:25.193568Z",
     "iopub.status.idle": "2021-05-03T06:29:25.212495Z",
     "shell.execute_reply": "2021-05-03T06:29:25.211936Z"
    },
    "papermill": {
     "duration": 0.055028,
     "end_time": "2021-05-03T06:29:25.212639",
     "exception": false,
     "start_time": "2021-05-03T06:29:25.157611",
     "status": "completed"
    },
    "tags": []
   },
   "outputs": [],
   "source": [
    "#Reading the csv file heart.csv in variable \n",
    "df=pd.read_csv('/kaggle/input/heart-attack-analysis-prediction-dataset/heart.csv')"
   ]
  },
  {
   "cell_type": "code",
   "execution_count": 4,
   "id": "determined-saturday",
   "metadata": {
    "execution": {
     "iopub.execute_input": "2021-05-03T06:29:25.290552Z",
     "iopub.status.busy": "2021-05-03T06:29:25.289913Z",
     "iopub.status.idle": "2021-05-03T06:29:25.310469Z",
     "shell.execute_reply": "2021-05-03T06:29:25.310989Z"
    },
    "papermill": {
     "duration": 0.065024,
     "end_time": "2021-05-03T06:29:25.311148",
     "exception": false,
     "start_time": "2021-05-03T06:29:25.246124",
     "status": "completed"
    },
    "tags": []
   },
   "outputs": [
    {
     "data": {
      "text/html": [
       "<div>\n",
       "<style scoped>\n",
       "    .dataframe tbody tr th:only-of-type {\n",
       "        vertical-align: middle;\n",
       "    }\n",
       "\n",
       "    .dataframe tbody tr th {\n",
       "        vertical-align: top;\n",
       "    }\n",
       "\n",
       "    .dataframe thead th {\n",
       "        text-align: right;\n",
       "    }\n",
       "</style>\n",
       "<table border=\"1\" class=\"dataframe\">\n",
       "  <thead>\n",
       "    <tr style=\"text-align: right;\">\n",
       "      <th></th>\n",
       "      <th>age</th>\n",
       "      <th>sex</th>\n",
       "      <th>cp</th>\n",
       "      <th>trtbps</th>\n",
       "      <th>chol</th>\n",
       "      <th>fbs</th>\n",
       "      <th>restecg</th>\n",
       "      <th>thalachh</th>\n",
       "      <th>exng</th>\n",
       "      <th>oldpeak</th>\n",
       "      <th>slp</th>\n",
       "      <th>caa</th>\n",
       "      <th>thall</th>\n",
       "      <th>output</th>\n",
       "    </tr>\n",
       "  </thead>\n",
       "  <tbody>\n",
       "    <tr>\n",
       "      <th>0</th>\n",
       "      <td>63</td>\n",
       "      <td>1</td>\n",
       "      <td>3</td>\n",
       "      <td>145</td>\n",
       "      <td>233</td>\n",
       "      <td>1</td>\n",
       "      <td>0</td>\n",
       "      <td>150</td>\n",
       "      <td>0</td>\n",
       "      <td>2.3</td>\n",
       "      <td>0</td>\n",
       "      <td>0</td>\n",
       "      <td>1</td>\n",
       "      <td>1</td>\n",
       "    </tr>\n",
       "    <tr>\n",
       "      <th>1</th>\n",
       "      <td>37</td>\n",
       "      <td>1</td>\n",
       "      <td>2</td>\n",
       "      <td>130</td>\n",
       "      <td>250</td>\n",
       "      <td>0</td>\n",
       "      <td>1</td>\n",
       "      <td>187</td>\n",
       "      <td>0</td>\n",
       "      <td>3.5</td>\n",
       "      <td>0</td>\n",
       "      <td>0</td>\n",
       "      <td>2</td>\n",
       "      <td>1</td>\n",
       "    </tr>\n",
       "    <tr>\n",
       "      <th>2</th>\n",
       "      <td>41</td>\n",
       "      <td>0</td>\n",
       "      <td>1</td>\n",
       "      <td>130</td>\n",
       "      <td>204</td>\n",
       "      <td>0</td>\n",
       "      <td>0</td>\n",
       "      <td>172</td>\n",
       "      <td>0</td>\n",
       "      <td>1.4</td>\n",
       "      <td>2</td>\n",
       "      <td>0</td>\n",
       "      <td>2</td>\n",
       "      <td>1</td>\n",
       "    </tr>\n",
       "    <tr>\n",
       "      <th>3</th>\n",
       "      <td>56</td>\n",
       "      <td>1</td>\n",
       "      <td>1</td>\n",
       "      <td>120</td>\n",
       "      <td>236</td>\n",
       "      <td>0</td>\n",
       "      <td>1</td>\n",
       "      <td>178</td>\n",
       "      <td>0</td>\n",
       "      <td>0.8</td>\n",
       "      <td>2</td>\n",
       "      <td>0</td>\n",
       "      <td>2</td>\n",
       "      <td>1</td>\n",
       "    </tr>\n",
       "    <tr>\n",
       "      <th>4</th>\n",
       "      <td>57</td>\n",
       "      <td>0</td>\n",
       "      <td>0</td>\n",
       "      <td>120</td>\n",
       "      <td>354</td>\n",
       "      <td>0</td>\n",
       "      <td>1</td>\n",
       "      <td>163</td>\n",
       "      <td>1</td>\n",
       "      <td>0.6</td>\n",
       "      <td>2</td>\n",
       "      <td>0</td>\n",
       "      <td>2</td>\n",
       "      <td>1</td>\n",
       "    </tr>\n",
       "  </tbody>\n",
       "</table>\n",
       "</div>"
      ],
      "text/plain": [
       "   age  sex  cp  trtbps  chol  fbs  restecg  thalachh  exng  oldpeak  slp  \\\n",
       "0   63    1   3     145   233    1        0       150     0      2.3    0   \n",
       "1   37    1   2     130   250    0        1       187     0      3.5    0   \n",
       "2   41    0   1     130   204    0        0       172     0      1.4    2   \n",
       "3   56    1   1     120   236    0        1       178     0      0.8    2   \n",
       "4   57    0   0     120   354    0        1       163     1      0.6    2   \n",
       "\n",
       "   caa  thall  output  \n",
       "0    0      1       1  \n",
       "1    0      2       1  \n",
       "2    0      2       1  \n",
       "3    0      2       1  \n",
       "4    0      2       1  "
      ]
     },
     "execution_count": 4,
     "metadata": {},
     "output_type": "execute_result"
    }
   ],
   "source": [
    "# looking at the first 5 rows of our data\n",
    "df.head()"
   ]
  },
  {
   "cell_type": "markdown",
   "id": "suburban-carol",
   "metadata": {
    "papermill": {
     "duration": 0.033482,
     "end_time": "2021-05-03T06:29:25.378934",
     "exception": false,
     "start_time": "2021-05-03T06:29:25.345452",
     "status": "completed"
    },
    "tags": []
   },
   "source": [
    "**Observation:**\n",
    " \n",
    " * Seems like all the columns are already in int or float data types.\n",
    " * If the columns were not in int or float ( i.e they were categorical variables), we would have had to convert them for model building.\n",
    " * Few ways to do so are by using pd.get_dummies, one hot encoding, multi collinearity, label encoder etc."
   ]
  },
  {
   "cell_type": "code",
   "execution_count": 5,
   "id": "british-registration",
   "metadata": {
    "execution": {
     "iopub.execute_input": "2021-05-03T06:29:25.449846Z",
     "iopub.status.busy": "2021-05-03T06:29:25.449168Z",
     "iopub.status.idle": "2021-05-03T06:29:25.463509Z",
     "shell.execute_reply": "2021-05-03T06:29:25.462988Z"
    },
    "papermill": {
     "duration": 0.050698,
     "end_time": "2021-05-03T06:29:25.463656",
     "exception": false,
     "start_time": "2021-05-03T06:29:25.412958",
     "status": "completed"
    },
    "tags": []
   },
   "outputs": [
    {
     "data": {
      "text/html": [
       "<div>\n",
       "<style scoped>\n",
       "    .dataframe tbody tr th:only-of-type {\n",
       "        vertical-align: middle;\n",
       "    }\n",
       "\n",
       "    .dataframe tbody tr th {\n",
       "        vertical-align: top;\n",
       "    }\n",
       "\n",
       "    .dataframe thead th {\n",
       "        text-align: right;\n",
       "    }\n",
       "</style>\n",
       "<table border=\"1\" class=\"dataframe\">\n",
       "  <thead>\n",
       "    <tr style=\"text-align: right;\">\n",
       "      <th></th>\n",
       "      <th>age</th>\n",
       "      <th>sex</th>\n",
       "      <th>cp</th>\n",
       "      <th>trtbps</th>\n",
       "      <th>chol</th>\n",
       "      <th>fbs</th>\n",
       "      <th>restecg</th>\n",
       "      <th>thalachh</th>\n",
       "      <th>exng</th>\n",
       "      <th>oldpeak</th>\n",
       "      <th>slp</th>\n",
       "      <th>caa</th>\n",
       "      <th>thall</th>\n",
       "      <th>output</th>\n",
       "    </tr>\n",
       "  </thead>\n",
       "  <tbody>\n",
       "    <tr>\n",
       "      <th>298</th>\n",
       "      <td>57</td>\n",
       "      <td>0</td>\n",
       "      <td>0</td>\n",
       "      <td>140</td>\n",
       "      <td>241</td>\n",
       "      <td>0</td>\n",
       "      <td>1</td>\n",
       "      <td>123</td>\n",
       "      <td>1</td>\n",
       "      <td>0.2</td>\n",
       "      <td>1</td>\n",
       "      <td>0</td>\n",
       "      <td>3</td>\n",
       "      <td>0</td>\n",
       "    </tr>\n",
       "    <tr>\n",
       "      <th>299</th>\n",
       "      <td>45</td>\n",
       "      <td>1</td>\n",
       "      <td>3</td>\n",
       "      <td>110</td>\n",
       "      <td>264</td>\n",
       "      <td>0</td>\n",
       "      <td>1</td>\n",
       "      <td>132</td>\n",
       "      <td>0</td>\n",
       "      <td>1.2</td>\n",
       "      <td>1</td>\n",
       "      <td>0</td>\n",
       "      <td>3</td>\n",
       "      <td>0</td>\n",
       "    </tr>\n",
       "    <tr>\n",
       "      <th>300</th>\n",
       "      <td>68</td>\n",
       "      <td>1</td>\n",
       "      <td>0</td>\n",
       "      <td>144</td>\n",
       "      <td>193</td>\n",
       "      <td>1</td>\n",
       "      <td>1</td>\n",
       "      <td>141</td>\n",
       "      <td>0</td>\n",
       "      <td>3.4</td>\n",
       "      <td>1</td>\n",
       "      <td>2</td>\n",
       "      <td>3</td>\n",
       "      <td>0</td>\n",
       "    </tr>\n",
       "    <tr>\n",
       "      <th>301</th>\n",
       "      <td>57</td>\n",
       "      <td>1</td>\n",
       "      <td>0</td>\n",
       "      <td>130</td>\n",
       "      <td>131</td>\n",
       "      <td>0</td>\n",
       "      <td>1</td>\n",
       "      <td>115</td>\n",
       "      <td>1</td>\n",
       "      <td>1.2</td>\n",
       "      <td>1</td>\n",
       "      <td>1</td>\n",
       "      <td>3</td>\n",
       "      <td>0</td>\n",
       "    </tr>\n",
       "    <tr>\n",
       "      <th>302</th>\n",
       "      <td>57</td>\n",
       "      <td>0</td>\n",
       "      <td>1</td>\n",
       "      <td>130</td>\n",
       "      <td>236</td>\n",
       "      <td>0</td>\n",
       "      <td>0</td>\n",
       "      <td>174</td>\n",
       "      <td>0</td>\n",
       "      <td>0.0</td>\n",
       "      <td>1</td>\n",
       "      <td>1</td>\n",
       "      <td>2</td>\n",
       "      <td>0</td>\n",
       "    </tr>\n",
       "  </tbody>\n",
       "</table>\n",
       "</div>"
      ],
      "text/plain": [
       "     age  sex  cp  trtbps  chol  fbs  restecg  thalachh  exng  oldpeak  slp  \\\n",
       "298   57    0   0     140   241    0        1       123     1      0.2    1   \n",
       "299   45    1   3     110   264    0        1       132     0      1.2    1   \n",
       "300   68    1   0     144   193    1        1       141     0      3.4    1   \n",
       "301   57    1   0     130   131    0        1       115     1      1.2    1   \n",
       "302   57    0   1     130   236    0        0       174     0      0.0    1   \n",
       "\n",
       "     caa  thall  output  \n",
       "298    0      3       0  \n",
       "299    0      3       0  \n",
       "300    2      3       0  \n",
       "301    1      3       0  \n",
       "302    1      2       0  "
      ]
     },
     "execution_count": 5,
     "metadata": {},
     "output_type": "execute_result"
    }
   ],
   "source": [
    "df.tail()"
   ]
  },
  {
   "cell_type": "code",
   "execution_count": 6,
   "id": "quick-surname",
   "metadata": {
    "execution": {
     "iopub.execute_input": "2021-05-03T06:29:25.537535Z",
     "iopub.status.busy": "2021-05-03T06:29:25.536850Z",
     "iopub.status.idle": "2021-05-03T06:29:25.539656Z",
     "shell.execute_reply": "2021-05-03T06:29:25.540241Z"
    },
    "papermill": {
     "duration": 0.042308,
     "end_time": "2021-05-03T06:29:25.540424",
     "exception": false,
     "start_time": "2021-05-03T06:29:25.498116",
     "status": "completed"
    },
    "tags": []
   },
   "outputs": [
    {
     "name": "stdout",
     "output_type": "stream",
     "text": [
      "Number of rows are 303 and number of columns are  14\n"
     ]
    }
   ],
   "source": [
    "print('Number of rows are',df.shape[0], 'and number of columns are ',df.shape[1])"
   ]
  },
  {
   "cell_type": "code",
   "execution_count": 7,
   "id": "peaceful-reflection",
   "metadata": {
    "execution": {
     "iopub.execute_input": "2021-05-03T06:29:25.614553Z",
     "iopub.status.busy": "2021-05-03T06:29:25.613614Z",
     "iopub.status.idle": "2021-05-03T06:29:25.634416Z",
     "shell.execute_reply": "2021-05-03T06:29:25.635149Z"
    },
    "papermill": {
     "duration": 0.059335,
     "end_time": "2021-05-03T06:29:25.635403",
     "exception": false,
     "start_time": "2021-05-03T06:29:25.576068",
     "status": "completed"
    },
    "tags": []
   },
   "outputs": [
    {
     "name": "stdout",
     "output_type": "stream",
     "text": [
      "<class 'pandas.core.frame.DataFrame'>\n",
      "RangeIndex: 303 entries, 0 to 302\n",
      "Data columns (total 14 columns):\n",
      " #   Column    Non-Null Count  Dtype  \n",
      "---  ------    --------------  -----  \n",
      " 0   age       303 non-null    int64  \n",
      " 1   sex       303 non-null    int64  \n",
      " 2   cp        303 non-null    int64  \n",
      " 3   trtbps    303 non-null    int64  \n",
      " 4   chol      303 non-null    int64  \n",
      " 5   fbs       303 non-null    int64  \n",
      " 6   restecg   303 non-null    int64  \n",
      " 7   thalachh  303 non-null    int64  \n",
      " 8   exng      303 non-null    int64  \n",
      " 9   oldpeak   303 non-null    float64\n",
      " 10  slp       303 non-null    int64  \n",
      " 11  caa       303 non-null    int64  \n",
      " 12  thall     303 non-null    int64  \n",
      " 13  output    303 non-null    int64  \n",
      "dtypes: float64(1), int64(13)\n",
      "memory usage: 33.3 KB\n"
     ]
    }
   ],
   "source": [
    "df.info()"
   ]
  },
  {
   "cell_type": "markdown",
   "id": "ultimate-customer",
   "metadata": {
    "papermill": {
     "duration": 0.035898,
     "end_time": "2021-05-03T06:29:25.707878",
     "exception": false,
     "start_time": "2021-05-03T06:29:25.671980",
     "status": "completed"
    },
    "tags": []
   },
   "source": [
    "**Observation:**\n",
    "\n",
    "* There are no missing rows in the entire dataset.\n",
    "* All the columns except oldpeak (float) are of int data type."
   ]
  },
  {
   "cell_type": "code",
   "execution_count": 8,
   "id": "bored-collapse",
   "metadata": {
    "execution": {
     "iopub.execute_input": "2021-05-03T06:29:25.787216Z",
     "iopub.status.busy": "2021-05-03T06:29:25.786611Z",
     "iopub.status.idle": "2021-05-03T06:29:25.789430Z",
     "shell.execute_reply": "2021-05-03T06:29:25.789982Z"
    },
    "papermill": {
     "duration": 0.04632,
     "end_time": "2021-05-03T06:29:25.790147",
     "exception": false,
     "start_time": "2021-05-03T06:29:25.743827",
     "status": "completed"
    },
    "tags": []
   },
   "outputs": [
    {
     "data": {
      "text/plain": [
       "age         0\n",
       "sex         0\n",
       "cp          0\n",
       "trtbps      0\n",
       "chol        0\n",
       "fbs         0\n",
       "restecg     0\n",
       "thalachh    0\n",
       "exng        0\n",
       "oldpeak     0\n",
       "slp         0\n",
       "caa         0\n",
       "thall       0\n",
       "output      0\n",
       "dtype: int64"
      ]
     },
     "execution_count": 8,
     "metadata": {},
     "output_type": "execute_result"
    }
   ],
   "source": [
    "df.isnull().sum()"
   ]
  },
  {
   "cell_type": "markdown",
   "id": "limited-briefs",
   "metadata": {
    "papermill": {
     "duration": 0.036464,
     "end_time": "2021-05-03T06:29:25.862744",
     "exception": false,
     "start_time": "2021-05-03T06:29:25.826280",
     "status": "completed"
    },
    "tags": []
   },
   "source": [
    "**Observation:** There are no missing values."
   ]
  },
  {
   "cell_type": "code",
   "execution_count": 9,
   "id": "blocked-portland",
   "metadata": {
    "execution": {
     "iopub.execute_input": "2021-05-03T06:29:25.938332Z",
     "iopub.status.busy": "2021-05-03T06:29:25.937721Z",
     "iopub.status.idle": "2021-05-03T06:29:25.943472Z",
     "shell.execute_reply": "2021-05-03T06:29:25.942938Z"
    },
    "papermill": {
     "duration": 0.044172,
     "end_time": "2021-05-03T06:29:25.943612",
     "exception": false,
     "start_time": "2021-05-03T06:29:25.899440",
     "status": "completed"
    },
    "tags": []
   },
   "outputs": [
    {
     "data": {
      "text/plain": [
       "Index(['age', 'sex', 'cp', 'trtbps', 'chol', 'fbs', 'restecg', 'thalachh',\n",
       "       'exng', 'oldpeak', 'slp', 'caa', 'thall', 'output'],\n",
       "      dtype='object')"
      ]
     },
     "execution_count": 9,
     "metadata": {},
     "output_type": "execute_result"
    }
   ],
   "source": [
    "df.columns"
   ]
  },
  {
   "cell_type": "code",
   "execution_count": 10,
   "id": "heavy-conference",
   "metadata": {
    "execution": {
     "iopub.execute_input": "2021-05-03T06:29:26.023786Z",
     "iopub.status.busy": "2021-05-03T06:29:26.023136Z",
     "iopub.status.idle": "2021-05-03T06:29:26.029043Z",
     "shell.execute_reply": "2021-05-03T06:29:26.028551Z"
    },
    "papermill": {
     "duration": 0.049275,
     "end_time": "2021-05-03T06:29:26.029177",
     "exception": false,
     "start_time": "2021-05-03T06:29:25.979902",
     "status": "completed"
    },
    "tags": []
   },
   "outputs": [
    {
     "data": {
      "text/plain": [
       "1"
      ]
     },
     "execution_count": 10,
     "metadata": {},
     "output_type": "execute_result"
    }
   ],
   "source": [
    "df.duplicated().sum()"
   ]
  },
  {
   "cell_type": "markdown",
   "id": "peripheral-veteran",
   "metadata": {
    "papermill": {
     "duration": 0.038189,
     "end_time": "2021-05-03T06:29:26.104283",
     "exception": false,
     "start_time": "2021-05-03T06:29:26.066094",
     "status": "completed"
    },
    "tags": []
   },
   "source": [
    "**Observation:** There is 1 duplicate row. Let's drop it!"
   ]
  },
  {
   "cell_type": "code",
   "execution_count": 11,
   "id": "sitting-south",
   "metadata": {
    "execution": {
     "iopub.execute_input": "2021-05-03T06:29:26.188769Z",
     "iopub.status.busy": "2021-05-03T06:29:26.188035Z",
     "iopub.status.idle": "2021-05-03T06:29:26.190516Z",
     "shell.execute_reply": "2021-05-03T06:29:26.190978Z"
    },
    "papermill": {
     "duration": 0.049895,
     "end_time": "2021-05-03T06:29:26.191149",
     "exception": false,
     "start_time": "2021-05-03T06:29:26.141254",
     "status": "completed"
    },
    "tags": []
   },
   "outputs": [
    {
     "name": "stdout",
     "output_type": "stream",
     "text": [
      "Number of rows are 302 and number of columns are  14\n"
     ]
    }
   ],
   "source": [
    "df.drop_duplicates(inplace=True)\n",
    "print('Number of rows are',df.shape[0], 'and number of columns are ',df.shape[1])"
   ]
  },
  {
   "cell_type": "code",
   "execution_count": 12,
   "id": "honest-maria",
   "metadata": {
    "execution": {
     "iopub.execute_input": "2021-05-03T06:29:26.269332Z",
     "iopub.status.busy": "2021-05-03T06:29:26.268722Z",
     "iopub.status.idle": "2021-05-03T06:29:26.324025Z",
     "shell.execute_reply": "2021-05-03T06:29:26.324533Z"
    },
    "papermill": {
     "duration": 0.096573,
     "end_time": "2021-05-03T06:29:26.324709",
     "exception": false,
     "start_time": "2021-05-03T06:29:26.228136",
     "status": "completed"
    },
    "tags": []
   },
   "outputs": [
    {
     "data": {
      "text/html": [
       "<div>\n",
       "<style scoped>\n",
       "    .dataframe tbody tr th:only-of-type {\n",
       "        vertical-align: middle;\n",
       "    }\n",
       "\n",
       "    .dataframe tbody tr th {\n",
       "        vertical-align: top;\n",
       "    }\n",
       "\n",
       "    .dataframe thead th {\n",
       "        text-align: right;\n",
       "    }\n",
       "</style>\n",
       "<table border=\"1\" class=\"dataframe\">\n",
       "  <thead>\n",
       "    <tr style=\"text-align: right;\">\n",
       "      <th></th>\n",
       "      <th>count</th>\n",
       "      <th>mean</th>\n",
       "      <th>std</th>\n",
       "      <th>min</th>\n",
       "      <th>25%</th>\n",
       "      <th>50%</th>\n",
       "      <th>75%</th>\n",
       "      <th>max</th>\n",
       "    </tr>\n",
       "  </thead>\n",
       "  <tbody>\n",
       "    <tr>\n",
       "      <th>age</th>\n",
       "      <td>302.0</td>\n",
       "      <td>54.420530</td>\n",
       "      <td>9.047970</td>\n",
       "      <td>29.0</td>\n",
       "      <td>48.00</td>\n",
       "      <td>55.5</td>\n",
       "      <td>61.00</td>\n",
       "      <td>77.0</td>\n",
       "    </tr>\n",
       "    <tr>\n",
       "      <th>sex</th>\n",
       "      <td>302.0</td>\n",
       "      <td>0.682119</td>\n",
       "      <td>0.466426</td>\n",
       "      <td>0.0</td>\n",
       "      <td>0.00</td>\n",
       "      <td>1.0</td>\n",
       "      <td>1.00</td>\n",
       "      <td>1.0</td>\n",
       "    </tr>\n",
       "    <tr>\n",
       "      <th>cp</th>\n",
       "      <td>302.0</td>\n",
       "      <td>0.963576</td>\n",
       "      <td>1.032044</td>\n",
       "      <td>0.0</td>\n",
       "      <td>0.00</td>\n",
       "      <td>1.0</td>\n",
       "      <td>2.00</td>\n",
       "      <td>3.0</td>\n",
       "    </tr>\n",
       "    <tr>\n",
       "      <th>trtbps</th>\n",
       "      <td>302.0</td>\n",
       "      <td>131.602649</td>\n",
       "      <td>17.563394</td>\n",
       "      <td>94.0</td>\n",
       "      <td>120.00</td>\n",
       "      <td>130.0</td>\n",
       "      <td>140.00</td>\n",
       "      <td>200.0</td>\n",
       "    </tr>\n",
       "    <tr>\n",
       "      <th>chol</th>\n",
       "      <td>302.0</td>\n",
       "      <td>246.500000</td>\n",
       "      <td>51.753489</td>\n",
       "      <td>126.0</td>\n",
       "      <td>211.00</td>\n",
       "      <td>240.5</td>\n",
       "      <td>274.75</td>\n",
       "      <td>564.0</td>\n",
       "    </tr>\n",
       "    <tr>\n",
       "      <th>fbs</th>\n",
       "      <td>302.0</td>\n",
       "      <td>0.149007</td>\n",
       "      <td>0.356686</td>\n",
       "      <td>0.0</td>\n",
       "      <td>0.00</td>\n",
       "      <td>0.0</td>\n",
       "      <td>0.00</td>\n",
       "      <td>1.0</td>\n",
       "    </tr>\n",
       "    <tr>\n",
       "      <th>restecg</th>\n",
       "      <td>302.0</td>\n",
       "      <td>0.526490</td>\n",
       "      <td>0.526027</td>\n",
       "      <td>0.0</td>\n",
       "      <td>0.00</td>\n",
       "      <td>1.0</td>\n",
       "      <td>1.00</td>\n",
       "      <td>2.0</td>\n",
       "    </tr>\n",
       "    <tr>\n",
       "      <th>thalachh</th>\n",
       "      <td>302.0</td>\n",
       "      <td>149.569536</td>\n",
       "      <td>22.903527</td>\n",
       "      <td>71.0</td>\n",
       "      <td>133.25</td>\n",
       "      <td>152.5</td>\n",
       "      <td>166.00</td>\n",
       "      <td>202.0</td>\n",
       "    </tr>\n",
       "    <tr>\n",
       "      <th>exng</th>\n",
       "      <td>302.0</td>\n",
       "      <td>0.327815</td>\n",
       "      <td>0.470196</td>\n",
       "      <td>0.0</td>\n",
       "      <td>0.00</td>\n",
       "      <td>0.0</td>\n",
       "      <td>1.00</td>\n",
       "      <td>1.0</td>\n",
       "    </tr>\n",
       "    <tr>\n",
       "      <th>oldpeak</th>\n",
       "      <td>302.0</td>\n",
       "      <td>1.043046</td>\n",
       "      <td>1.161452</td>\n",
       "      <td>0.0</td>\n",
       "      <td>0.00</td>\n",
       "      <td>0.8</td>\n",
       "      <td>1.60</td>\n",
       "      <td>6.2</td>\n",
       "    </tr>\n",
       "    <tr>\n",
       "      <th>slp</th>\n",
       "      <td>302.0</td>\n",
       "      <td>1.397351</td>\n",
       "      <td>0.616274</td>\n",
       "      <td>0.0</td>\n",
       "      <td>1.00</td>\n",
       "      <td>1.0</td>\n",
       "      <td>2.00</td>\n",
       "      <td>2.0</td>\n",
       "    </tr>\n",
       "    <tr>\n",
       "      <th>caa</th>\n",
       "      <td>302.0</td>\n",
       "      <td>0.718543</td>\n",
       "      <td>1.006748</td>\n",
       "      <td>0.0</td>\n",
       "      <td>0.00</td>\n",
       "      <td>0.0</td>\n",
       "      <td>1.00</td>\n",
       "      <td>4.0</td>\n",
       "    </tr>\n",
       "    <tr>\n",
       "      <th>thall</th>\n",
       "      <td>302.0</td>\n",
       "      <td>2.314570</td>\n",
       "      <td>0.613026</td>\n",
       "      <td>0.0</td>\n",
       "      <td>2.00</td>\n",
       "      <td>2.0</td>\n",
       "      <td>3.00</td>\n",
       "      <td>3.0</td>\n",
       "    </tr>\n",
       "    <tr>\n",
       "      <th>output</th>\n",
       "      <td>302.0</td>\n",
       "      <td>0.543046</td>\n",
       "      <td>0.498970</td>\n",
       "      <td>0.0</td>\n",
       "      <td>0.00</td>\n",
       "      <td>1.0</td>\n",
       "      <td>1.00</td>\n",
       "      <td>1.0</td>\n",
       "    </tr>\n",
       "  </tbody>\n",
       "</table>\n",
       "</div>"
      ],
      "text/plain": [
       "          count        mean        std    min     25%    50%     75%    max\n",
       "age       302.0   54.420530   9.047970   29.0   48.00   55.5   61.00   77.0\n",
       "sex       302.0    0.682119   0.466426    0.0    0.00    1.0    1.00    1.0\n",
       "cp        302.0    0.963576   1.032044    0.0    0.00    1.0    2.00    3.0\n",
       "trtbps    302.0  131.602649  17.563394   94.0  120.00  130.0  140.00  200.0\n",
       "chol      302.0  246.500000  51.753489  126.0  211.00  240.5  274.75  564.0\n",
       "fbs       302.0    0.149007   0.356686    0.0    0.00    0.0    0.00    1.0\n",
       "restecg   302.0    0.526490   0.526027    0.0    0.00    1.0    1.00    2.0\n",
       "thalachh  302.0  149.569536  22.903527   71.0  133.25  152.5  166.00  202.0\n",
       "exng      302.0    0.327815   0.470196    0.0    0.00    0.0    1.00    1.0\n",
       "oldpeak   302.0    1.043046   1.161452    0.0    0.00    0.8    1.60    6.2\n",
       "slp       302.0    1.397351   0.616274    0.0    1.00    1.0    2.00    2.0\n",
       "caa       302.0    0.718543   1.006748    0.0    0.00    0.0    1.00    4.0\n",
       "thall     302.0    2.314570   0.613026    0.0    2.00    2.0    3.00    3.0\n",
       "output    302.0    0.543046   0.498970    0.0    0.00    1.0    1.00    1.0"
      ]
     },
     "execution_count": 12,
     "metadata": {},
     "output_type": "execute_result"
    }
   ],
   "source": [
    "df.describe().T"
   ]
  },
  {
   "cell_type": "markdown",
   "id": "downtown-multimedia",
   "metadata": {
    "papermill": {
     "duration": 0.037722,
     "end_time": "2021-05-03T06:29:26.400523",
     "exception": false,
     "start_time": "2021-05-03T06:29:26.362801",
     "status": "completed"
    },
    "tags": []
   },
   "source": [
    "**Observation:**\n",
    "\n",
    "* The average blood pressure of an individual is 130 whereas the maximun value goes upto 200.\n",
    "* The average heart rate of the group is 152, whereas overall it ranges between 133 to 202\n",
    "* Age of the group varies from 29 to 77 and the mean age is 55.5"
   ]
  },
  {
   "cell_type": "code",
   "execution_count": 13,
   "id": "defensive-thanksgiving",
   "metadata": {
    "execution": {
     "iopub.execute_input": "2021-05-03T06:29:26.483805Z",
     "iopub.status.busy": "2021-05-03T06:29:26.482820Z",
     "iopub.status.idle": "2021-05-03T06:29:26.490102Z",
     "shell.execute_reply": "2021-05-03T06:29:26.488917Z"
    },
    "papermill": {
     "duration": 0.051828,
     "end_time": "2021-05-03T06:29:26.490388",
     "exception": false,
     "start_time": "2021-05-03T06:29:26.438560",
     "status": "completed"
    },
    "tags": []
   },
   "outputs": [
    {
     "name": "stdout",
     "output_type": "stream",
     "text": [
      "SEX :[1 0] \n",
      "CHOL :[233 250 204 236 354 192 294 263 199 168 239 275 266 211 283 219 340 226\n",
      " 247 234 243 302 212 175 417 197 198 177 273 213 304 232 269 360 308 245\n",
      " 208 264 321 325 235 257 216 256 231 141 252 201 222 260 182 303 265 309\n",
      " 186 203 183 220 209 258 227 261 221 205 240 318 298 564 277 214 248 255\n",
      " 207 223 288 160 394 315 246 244 270 195 196 254 126 313 262 215 193 271\n",
      " 268 267 210 295 306 178 242 180 228 149 278 253 342 157 286 229 284 224\n",
      " 206 167 230 335 276 353 225 330 290 172 305 188 282 185 326 274 164 307\n",
      " 249 341 407 217 174 281 289 322 299 300 293 184 409 259 200 327 237 218\n",
      " 319 166 311 169 187 176 241 131] \n",
      "TRTBPS :[145 130 120 140 172 150 110 135 160 105 125 142 155 104 138 128 108 134\n",
      " 122 115 118 100 124  94 112 102 152 101 132 148 178 129 180 136 126 106\n",
      " 156 170 146 117 200 165 174 192 144 123 154 114 164] \n",
      "CP :[3 2 1 0] \n",
      "THALL :[1 2 3 0] \n",
      "EXNG :[0 1] \n"
     ]
    }
   ],
   "source": [
    "#This is to look at what all unique values have . Just trying to use python\n",
    "list_col=['sex','chol','trtbps','cp','thall','exng']\n",
    "\n",
    "for col in list_col: \n",
    "    print('{} :{} ' . format(col.upper(),df[col].unique()))"
   ]
  },
  {
   "cell_type": "markdown",
   "id": "hollywood-underwear",
   "metadata": {
    "papermill": {
     "duration": 0.0391,
     "end_time": "2021-05-03T06:29:26.567986",
     "exception": false,
     "start_time": "2021-05-03T06:29:26.528886",
     "status": "completed"
    },
    "tags": []
   },
   "source": [
    "**Observation:**\n",
    "\n",
    "* There are two sex : 0 and 1\n",
    "* The highest cholestrol level is 564 and the lowest is 126.\n",
    "* Resting Blood Pressure of individuals vary between 94 to 200.\n",
    "* There are 4 types of chest pain.\n",
    "* exercise induced angina has 2 types (1 = yes; 0 = no)"
   ]
  },
  {
   "cell_type": "code",
   "execution_count": 14,
   "id": "embedded-patrol",
   "metadata": {
    "execution": {
     "iopub.execute_input": "2021-05-03T06:29:26.665470Z",
     "iopub.status.busy": "2021-05-03T06:29:26.664467Z",
     "iopub.status.idle": "2021-05-03T06:29:26.802597Z",
     "shell.execute_reply": "2021-05-03T06:29:26.801971Z"
    },
    "papermill": {
     "duration": 0.196403,
     "end_time": "2021-05-03T06:29:26.802731",
     "exception": false,
     "start_time": "2021-05-03T06:29:26.606328",
     "status": "completed"
    },
    "tags": []
   },
   "outputs": [
    {
     "name": "stdout",
     "output_type": "stream",
     "text": [
      "Number of people having sex as 0 are 96 and Number of people having sex as 1 are 206\n"
     ]
    },
    {
     "data": {
      "image/png": "[encoded data removed]",
      "text/plain": [
       "<Figure size 432x288 with 1 Axes>"
      ]
     },
     "metadata": {
      "needs_background": "light"
     },
     "output_type": "display_data"
    }
   ],
   "source": [
    "print(f'Number of people having sex as 0 are {df.sex.value_counts()[0]} and Number of people having sex as 1 are {df.sex.value_counts()[1]}')\n",
    "p = sns.countplot(data=df, x=\"sex\", palette='pastel')\n",
    "plt.show()"
   ]
  },
  {
   "cell_type": "markdown",
   "id": "white-morocco",
   "metadata": {
    "papermill": {
     "duration": 0.040544,
     "end_time": "2021-05-03T06:29:26.882839",
     "exception": false,
     "start_time": "2021-05-03T06:29:26.842295",
     "status": "completed"
    },
    "tags": []
   },
   "source": [
    "**Observation:** \n",
    "\n",
    "* The number of people belonging to sex category 0 are 96 whereas 1 are 206.\n",
    "* The number of people in one category are more than double than the zero."
   ]
  },
  {
   "cell_type": "code",
   "execution_count": 15,
   "id": "healthy-charity",
   "metadata": {
    "execution": {
     "iopub.execute_input": "2021-05-03T06:29:26.978208Z",
     "iopub.status.busy": "2021-05-03T06:29:26.969829Z",
     "iopub.status.idle": "2021-05-03T06:29:27.099534Z",
     "shell.execute_reply": "2021-05-03T06:29:27.098896Z"
    },
    "papermill": {
     "duration": 0.177131,
     "end_time": "2021-05-03T06:29:27.099677",
     "exception": false,
     "start_time": "2021-05-03T06:29:26.922546",
     "status": "completed"
    },
    "tags": []
   },
   "outputs": [
    {
     "data": {
      "text/plain": [
       "<AxesSubplot:xlabel='cp', ylabel='count'>"
      ]
     },
     "execution_count": 15,
     "metadata": {},
     "output_type": "execute_result"
    },
    {
     "data": {
      "image/png": "[encoded data removed]",
      "text/plain": [
       "<Figure size 432x288 with 1 Axes>"
      ]
     },
     "metadata": {
      "needs_background": "light"
     },
     "output_type": "display_data"
    }
   ],
   "source": [
    "sns.countplot(x='cp', data=df, palette='pastel')"
   ]
  },
  {
   "cell_type": "markdown",
   "id": "elder-italic",
   "metadata": {
    "papermill": {
     "duration": 0.040398,
     "end_time": "2021-05-03T06:29:27.181029",
     "exception": false,
     "start_time": "2021-05-03T06:29:27.140631",
     "status": "completed"
    },
    "tags": []
   },
   "source": [
    "**Observation:**\n",
    "\n",
    "* cp : Chest Pain type chest pain type\n",
    "\n",
    "    * Value 0: typical angina\n",
    "    * Value 1: atypical angina\n",
    "    * Value 2: non-anginal pain\n",
    "    * Value 3: asymptomatic\n",
    "    \n",
    "* People of chest pain category '0' have the highest count, whereas of count of chest pain '3' is the lowest"
   ]
  },
  {
   "cell_type": "code",
   "execution_count": 16,
   "id": "labeled-catalyst",
   "metadata": {
    "execution": {
     "iopub.execute_input": "2021-05-03T06:29:27.298417Z",
     "iopub.status.busy": "2021-05-03T06:29:27.297401Z",
     "iopub.status.idle": "2021-05-03T06:29:27.373660Z",
     "shell.execute_reply": "2021-05-03T06:29:27.373019Z"
    },
    "papermill": {
     "duration": 0.152012,
     "end_time": "2021-05-03T06:29:27.373793",
     "exception": false,
     "start_time": "2021-05-03T06:29:27.221781",
     "status": "completed"
    },
    "tags": []
   },
   "outputs": [
    {
     "data": {
      "text/plain": [
       "<AxesSubplot:xlabel='fbs', ylabel='count'>"
      ]
     },
     "execution_count": 16,
     "metadata": {},
     "output_type": "execute_result"
    },
    {
     "data": {
      "image/png": "[encoded data removed]",
      "text/plain": [
       "<Figure size 432x288 with 1 Axes>"
      ]
     },
     "metadata": {
      "needs_background": "light"
     },
     "output_type": "display_data"
    }
   ],
   "source": [
    "sns.countplot(x='fbs', data=df, palette='pastel')"
   ]
  },
  {
   "cell_type": "markdown",
   "id": "guilty-poison",
   "metadata": {
    "papermill": {
     "duration": 0.041815,
     "end_time": "2021-05-03T06:29:27.457546",
     "exception": false,
     "start_time": "2021-05-03T06:29:27.415731",
     "status": "completed"
    },
    "tags": []
   },
   "source": [
    "**Observation:** People of fbs category 1 are less than 25% of people of fbs category 0."
   ]
  },
  {
   "cell_type": "code",
   "execution_count": 17,
   "id": "fatal-german",
   "metadata": {
    "execution": {
     "iopub.execute_input": "2021-05-03T06:29:27.675422Z",
     "iopub.status.busy": "2021-05-03T06:29:27.666158Z",
     "iopub.status.idle": "2021-05-03T06:29:27.781976Z",
     "shell.execute_reply": "2021-05-03T06:29:27.781283Z"
    },
    "papermill": {
     "duration": 0.282694,
     "end_time": "2021-05-03T06:29:27.782116",
     "exception": false,
     "start_time": "2021-05-03T06:29:27.499422",
     "status": "completed"
    },
    "tags": []
   },
   "outputs": [
    {
     "data": {
      "text/plain": [
       "<AxesSubplot:xlabel='thall', ylabel='count'>"
      ]
     },
     "execution_count": 17,
     "metadata": {},
     "output_type": "execute_result"
    },
    {
     "data": {
      "image/png": "[encoded data removed]",
      "text/plain": [
       "<Figure size 432x288 with 1 Axes>"
      ]
     },
     "metadata": {
      "needs_background": "light"
     },
     "output_type": "display_data"
    }
   ],
   "source": [
    "sns.countplot(x='thall', data=df, palette='pastel')"
   ]
  },
  {
   "cell_type": "markdown",
   "id": "close-fellow",
   "metadata": {
    "papermill": {
     "duration": 0.042293,
     "end_time": "2021-05-03T06:29:27.867630",
     "exception": false,
     "start_time": "2021-05-03T06:29:27.825337",
     "status": "completed"
    },
    "tags": []
   },
   "source": [
    "**Observation:** Thall count is maximum for type 2 ( 165 ) and min for type 0 ( 2 ) .\n"
   ]
  },
  {
   "cell_type": "code",
   "execution_count": 18,
   "id": "saving-client",
   "metadata": {
    "execution": {
     "iopub.execute_input": "2021-05-03T06:29:27.992616Z",
     "iopub.status.busy": "2021-05-03T06:29:27.991942Z",
     "iopub.status.idle": "2021-05-03T06:29:28.081902Z",
     "shell.execute_reply": "2021-05-03T06:29:28.081215Z"
    },
    "papermill": {
     "duration": 0.171761,
     "end_time": "2021-05-03T06:29:28.082039",
     "exception": false,
     "start_time": "2021-05-03T06:29:27.910278",
     "status": "completed"
    },
    "tags": []
   },
   "outputs": [
    {
     "data": {
      "text/plain": [
       "<AxesSubplot:xlabel='restecg', ylabel='count'>"
      ]
     },
     "execution_count": 18,
     "metadata": {},
     "output_type": "execute_result"
    },
    {
     "data": {
      "image/png": "[encoded data removed]",
      "text/plain": [
       "<Figure size 432x288 with 1 Axes>"
      ]
     },
     "metadata": {
      "needs_background": "light"
     },
     "output_type": "display_data"
    }
   ],
   "source": [
    "sns.countplot(x='restecg', data=df, palette='pastel')"
   ]
  },
  {
   "cell_type": "markdown",
   "id": "comfortable-interaction",
   "metadata": {
    "papermill": {
     "duration": 0.044322,
     "end_time": "2021-05-03T06:29:28.170606",
     "exception": false,
     "start_time": "2021-05-03T06:29:28.126284",
     "status": "completed"
    },
    "tags": []
   },
   "source": [
    "**Observation:** \n",
    "\n",
    "* ECG count is almost the same for type 0 and 1. \n",
    "* Also, its almost negligible for type 2 in comparision to type 0 and 1."
   ]
  },
  {
   "cell_type": "code",
   "execution_count": 19,
   "id": "pressed-authority",
   "metadata": {
    "execution": {
     "iopub.execute_input": "2021-05-03T06:29:28.265439Z",
     "iopub.status.busy": "2021-05-03T06:29:28.264802Z",
     "iopub.status.idle": "2021-05-03T06:29:28.686873Z",
     "shell.execute_reply": "2021-05-03T06:29:28.686320Z"
    },
    "papermill": {
     "duration": 0.472277,
     "end_time": "2021-05-03T06:29:28.687011",
     "exception": false,
     "start_time": "2021-05-03T06:29:28.214734",
     "status": "completed"
    },
    "tags": []
   },
   "outputs": [
    {
     "data": {
      "text/plain": [
       "<AxesSubplot:xlabel='caa', ylabel='age'>"
      ]
     },
     "execution_count": 19,
     "metadata": {},
     "output_type": "execute_result"
    },
    {
     "data": {
      "image/png": "[encoded data removed]",
      "text/plain": [
       "<Figure size 720x720 with 1 Axes>"
      ]
     },
     "metadata": {
      "needs_background": "light"
     },
     "output_type": "display_data"
    }
   ],
   "source": [
    "plt.figure(figsize = (10,10))\n",
    "sns.swarmplot(x=df['caa'],y=df['age'],hue=df['output'], palette='pastel')"
   ]
  },
  {
   "cell_type": "markdown",
   "id": "advised-vocabulary",
   "metadata": {
    "papermill": {
     "duration": 0.04564,
     "end_time": "2021-05-03T06:29:28.778463",
     "exception": false,
     "start_time": "2021-05-03T06:29:28.732823",
     "status": "completed"
    },
    "tags": []
   },
   "source": [
    "**Observation:**\n",
    "\n",
    "* This swarmplot gives us a lot of information.\n",
    "* Accoring to the figure, people belonging to caa category '0' , irrespective of their age are highly prone to getting a heart attack.\n",
    "* While there are very few people belonging to caa category '4' , but it seems that around 75% of those get heart attacks.\n",
    "* People belonging to category '1' , '2' and '3' are more or less at similar risk."
   ]
  },
  {
   "cell_type": "code",
   "execution_count": 20,
   "id": "naval-manner",
   "metadata": {
    "execution": {
     "iopub.execute_input": "2021-05-03T06:29:28.900963Z",
     "iopub.status.busy": "2021-05-03T06:29:28.900044Z",
     "iopub.status.idle": "2021-05-03T06:29:29.080781Z",
     "shell.execute_reply": "2021-05-03T06:29:29.080256Z"
    },
    "papermill": {
     "duration": 0.256681,
     "end_time": "2021-05-03T06:29:29.080917",
     "exception": false,
     "start_time": "2021-05-03T06:29:28.824236",
     "status": "completed"
    },
    "tags": []
   },
   "outputs": [
    {
     "data": {
      "text/plain": [
       "<matplotlib.legend.Legend at 0x7f5c77718790>"
      ]
     },
     "execution_count": 20,
     "metadata": {},
     "output_type": "execute_result"
    },
    {
     "data": {
      "image/png": "[encoded data removed]",
      "text/plain": [
       "<Figure size 432x288 with 1 Axes>"
      ]
     },
     "metadata": {
      "needs_background": "light"
     },
     "output_type": "display_data"
    }
   ],
   "source": [
    "sns.color_palette(\"pastel\")\n",
    "plt.title('Checking Outliers with distplot()')\n",
    "sns.distplot(df.trtbps, label='trtbps', kde=True, bins=10, color='green')\n",
    "plt.legend()"
   ]
  },
  {
   "cell_type": "code",
   "execution_count": 21,
   "id": "manufactured-validity",
   "metadata": {
    "execution": {
     "iopub.execute_input": "2021-05-03T06:29:29.198383Z",
     "iopub.status.busy": "2021-05-03T06:29:29.197719Z",
     "iopub.status.idle": "2021-05-03T06:29:29.400303Z",
     "shell.execute_reply": "2021-05-03T06:29:29.401501Z"
    },
    "papermill": {
     "duration": 0.271806,
     "end_time": "2021-05-03T06:29:29.401676",
     "exception": false,
     "start_time": "2021-05-03T06:29:29.129870",
     "status": "completed"
    },
    "tags": []
   },
   "outputs": [
    {
     "data": {
      "text/plain": [
       "<matplotlib.legend.Legend at 0x7f5c7567f810>"
      ]
     },
     "execution_count": 21,
     "metadata": {},
     "output_type": "execute_result"
    },
    {
     "data": {
      "image/png": "[encoded data removed]",
      "text/plain": [
       "<Figure size 432x288 with 1 Axes>"
      ]
     },
     "metadata": {
      "needs_background": "light"
     },
     "output_type": "display_data"
    }
   ],
   "source": [
    "plt.title('Checking Outliers with distplot()')\n",
    "sns.distplot(df.chol, label='chol', kde=True, color='red')\n",
    "plt.legend()"
   ]
  },
  {
   "cell_type": "code",
   "execution_count": 22,
   "id": "capable-fantasy",
   "metadata": {
    "execution": {
     "iopub.execute_input": "2021-05-03T06:29:29.529748Z",
     "iopub.status.busy": "2021-05-03T06:29:29.526962Z",
     "iopub.status.idle": "2021-05-03T06:29:29.729855Z",
     "shell.execute_reply": "2021-05-03T06:29:29.729295Z"
    },
    "papermill": {
     "duration": 0.279812,
     "end_time": "2021-05-03T06:29:29.729985",
     "exception": false,
     "start_time": "2021-05-03T06:29:29.450173",
     "status": "completed"
    },
    "tags": []
   },
   "outputs": [
    {
     "data": {
      "text/plain": [
       "<matplotlib.legend.Legend at 0x7f5c77718d10>"
      ]
     },
     "execution_count": 22,
     "metadata": {},
     "output_type": "execute_result"
    },
    {
     "data": {
      "image/png": "[encoded data removed]",
      "text/plain": [
       "<Figure size 432x288 with 1 Axes>"
      ]
     },
     "metadata": {
      "needs_background": "light"
     },
     "output_type": "display_data"
    }
   ],
   "source": [
    "plt.title('Checking Outliers with distplot()')\n",
    "sns.distplot(df['thalachh'],label='thalachh', kde=True )\n",
    "plt.legend()"
   ]
  },
  {
   "cell_type": "markdown",
   "id": "essential-republican",
   "metadata": {
    "papermill": {
     "duration": 0.049987,
     "end_time": "2021-05-03T06:29:29.830291",
     "exception": false,
     "start_time": "2021-05-03T06:29:29.780304",
     "status": "completed"
    },
    "tags": []
   },
   "source": [
    "**Observations:**\n",
    "\n",
    "* trtbps and chol looks like they are normally distributed, with some outliers highly skewed towards right.\n",
    "* In case of thalachh the data is highly skewed towards right!"
   ]
  },
  {
   "cell_type": "code",
   "execution_count": 23,
   "id": "listed-repeat",
   "metadata": {
    "execution": {
     "iopub.execute_input": "2021-05-03T06:29:29.985667Z",
     "iopub.status.busy": "2021-05-03T06:29:29.971974Z",
     "iopub.status.idle": "2021-05-03T06:29:31.618292Z",
     "shell.execute_reply": "2021-05-03T06:29:31.617689Z"
    },
    "papermill": {
     "duration": 1.737253,
     "end_time": "2021-05-03T06:29:31.618442",
     "exception": false,
     "start_time": "2021-05-03T06:29:29.881189",
     "status": "completed"
    },
    "tags": []
   },
   "outputs": [
    {
     "data": {
      "text/plain": [
       "<AxesSubplot:xlabel='age', ylabel='oldpeak'>"
      ]
     },
     "execution_count": 23,
     "metadata": {},
     "output_type": "execute_result"
    },
    {
     "data": {
      "image/png": "[encoded data removed]",
      "text/plain": [
       "<Figure size 1440x720 with 1 Axes>"
      ]
     },
     "metadata": {
      "needs_background": "light"
     },
     "output_type": "display_data"
    },
    {
     "data": {
      "image/png": "[encoded data removed]",
      "text/plain": [
       "<Figure size 1440x720 with 1 Axes>"
      ]
     },
     "metadata": {
      "needs_background": "light"
     },
     "output_type": "display_data"
    }
   ],
   "source": [
    "plt.figure(figsize=(20,10))\n",
    "sns.lineplot(x = df['age'], y = df['thall'],marker = '*', linestyle = '--', color = 'red')\n",
    "\n",
    "plt.figure(figsize = (20,10))\n",
    "sns.regplot(x=df['age'],y=df['oldpeak'])"
   ]
  },
  {
   "cell_type": "markdown",
   "id": "innovative-accordance",
   "metadata": {
    "papermill": {
     "duration": 0.054481,
     "end_time": "2021-05-03T06:29:31.728262",
     "exception": false,
     "start_time": "2021-05-03T06:29:31.673781",
     "status": "completed"
    },
    "tags": []
   },
   "source": [
    "**Observation:** \n",
    "\n",
    "* This hardly provides any information. \n",
    "* The relationship between age-oldpeak and age-thall is highly uncertain and varies significantly."
   ]
  },
  {
   "cell_type": "code",
   "execution_count": 24,
   "id": "other-resident",
   "metadata": {
    "execution": {
     "iopub.execute_input": "2021-05-03T06:29:31.844155Z",
     "iopub.status.busy": "2021-05-03T06:29:31.843429Z",
     "iopub.status.idle": "2021-05-03T06:29:31.846975Z",
     "shell.execute_reply": "2021-05-03T06:29:31.846259Z"
    },
    "papermill": {
     "duration": 0.064015,
     "end_time": "2021-05-03T06:29:31.847125",
     "exception": false,
     "start_time": "2021-05-03T06:29:31.783110",
     "status": "completed"
    },
    "tags": []
   },
   "outputs": [],
   "source": [
    "X = df.drop('output', axis = 1)\n",
    "y = df['output']"
   ]
  },
  {
   "cell_type": "markdown",
   "id": "cleared-pressure",
   "metadata": {
    "papermill": {
     "duration": 0.054656,
     "end_time": "2021-05-03T06:29:31.956718",
     "exception": false,
     "start_time": "2021-05-03T06:29:31.902062",
     "status": "completed"
    },
    "tags": []
   },
   "source": [
    "**About StandardScaler:**\n",
    "\n",
    "* Python sklearn library offers us with StandardScaler() function to standardize the data values into a standard format.\n",
    "\n",
    "* Standardization of a dataset is a common requirement for many machine learning estimators: they might behave badly if the individual features do not more or less look like standard normally distributed data (e.g. Gaussian with 0 mean and unit variance).\n",
    "\n",
    "* StandardScaler follows Standard Normal Distribution (SND). Therefore, it makes mean = 0 and scales the data to unit variance."
   ]
  },
  {
   "cell_type": "code",
   "execution_count": 25,
   "id": "loving-title",
   "metadata": {
    "execution": {
     "iopub.execute_input": "2021-05-03T06:29:32.070693Z",
     "iopub.status.busy": "2021-05-03T06:29:32.070044Z",
     "iopub.status.idle": "2021-05-03T06:29:32.074743Z",
     "shell.execute_reply": "2021-05-03T06:29:32.074230Z"
    },
    "papermill": {
     "duration": 0.063176,
     "end_time": "2021-05-03T06:29:32.074874",
     "exception": false,
     "start_time": "2021-05-03T06:29:32.011698",
     "status": "completed"
    },
    "tags": []
   },
   "outputs": [],
   "source": [
    "df.reset_index(drop=True, inplace=True)"
   ]
  },
  {
   "cell_type": "code",
   "execution_count": 26,
   "id": "unknown-savage",
   "metadata": {
    "execution": {
     "iopub.execute_input": "2021-05-03T06:29:32.199805Z",
     "iopub.status.busy": "2021-05-03T06:29:32.199133Z",
     "iopub.status.idle": "2021-05-03T06:29:32.202047Z",
     "shell.execute_reply": "2021-05-03T06:29:32.202623Z"
    },
    "papermill": {
     "duration": 0.073004,
     "end_time": "2021-05-03T06:29:32.202797",
     "exception": false,
     "start_time": "2021-05-03T06:29:32.129793",
     "status": "completed"
    },
    "tags": []
   },
   "outputs": [
    {
     "data": {
      "text/html": [
       "<div>\n",
       "<style scoped>\n",
       "    .dataframe tbody tr th:only-of-type {\n",
       "        vertical-align: middle;\n",
       "    }\n",
       "\n",
       "    .dataframe tbody tr th {\n",
       "        vertical-align: top;\n",
       "    }\n",
       "\n",
       "    .dataframe thead th {\n",
       "        text-align: right;\n",
       "    }\n",
       "</style>\n",
       "<table border=\"1\" class=\"dataframe\">\n",
       "  <thead>\n",
       "    <tr style=\"text-align: right;\">\n",
       "      <th></th>\n",
       "      <th>age</th>\n",
       "      <th>trtbps</th>\n",
       "      <th>chol</th>\n",
       "      <th>thalachh</th>\n",
       "      <th>oldpeak</th>\n",
       "    </tr>\n",
       "  </thead>\n",
       "  <tbody>\n",
       "    <tr>\n",
       "      <th>0</th>\n",
       "      <td>63</td>\n",
       "      <td>145</td>\n",
       "      <td>233</td>\n",
       "      <td>150</td>\n",
       "      <td>2.3</td>\n",
       "    </tr>\n",
       "    <tr>\n",
       "      <th>1</th>\n",
       "      <td>37</td>\n",
       "      <td>130</td>\n",
       "      <td>250</td>\n",
       "      <td>187</td>\n",
       "      <td>3.5</td>\n",
       "    </tr>\n",
       "    <tr>\n",
       "      <th>2</th>\n",
       "      <td>41</td>\n",
       "      <td>130</td>\n",
       "      <td>204</td>\n",
       "      <td>172</td>\n",
       "      <td>1.4</td>\n",
       "    </tr>\n",
       "    <tr>\n",
       "      <th>3</th>\n",
       "      <td>56</td>\n",
       "      <td>120</td>\n",
       "      <td>236</td>\n",
       "      <td>178</td>\n",
       "      <td>0.8</td>\n",
       "    </tr>\n",
       "    <tr>\n",
       "      <th>4</th>\n",
       "      <td>57</td>\n",
       "      <td>120</td>\n",
       "      <td>354</td>\n",
       "      <td>163</td>\n",
       "      <td>0.6</td>\n",
       "    </tr>\n",
       "    <tr>\n",
       "      <th>...</th>\n",
       "      <td>...</td>\n",
       "      <td>...</td>\n",
       "      <td>...</td>\n",
       "      <td>...</td>\n",
       "      <td>...</td>\n",
       "    </tr>\n",
       "    <tr>\n",
       "      <th>297</th>\n",
       "      <td>57</td>\n",
       "      <td>140</td>\n",
       "      <td>241</td>\n",
       "      <td>123</td>\n",
       "      <td>0.2</td>\n",
       "    </tr>\n",
       "    <tr>\n",
       "      <th>298</th>\n",
       "      <td>45</td>\n",
       "      <td>110</td>\n",
       "      <td>264</td>\n",
       "      <td>132</td>\n",
       "      <td>1.2</td>\n",
       "    </tr>\n",
       "    <tr>\n",
       "      <th>299</th>\n",
       "      <td>68</td>\n",
       "      <td>144</td>\n",
       "      <td>193</td>\n",
       "      <td>141</td>\n",
       "      <td>3.4</td>\n",
       "    </tr>\n",
       "    <tr>\n",
       "      <th>300</th>\n",
       "      <td>57</td>\n",
       "      <td>130</td>\n",
       "      <td>131</td>\n",
       "      <td>115</td>\n",
       "      <td>1.2</td>\n",
       "    </tr>\n",
       "    <tr>\n",
       "      <th>301</th>\n",
       "      <td>57</td>\n",
       "      <td>130</td>\n",
       "      <td>236</td>\n",
       "      <td>174</td>\n",
       "      <td>0.0</td>\n",
       "    </tr>\n",
       "  </tbody>\n",
       "</table>\n",
       "<p>302 rows × 5 columns</p>\n",
       "</div>"
      ],
      "text/plain": [
       "     age  trtbps  chol  thalachh  oldpeak\n",
       "0     63     145   233       150      2.3\n",
       "1     37     130   250       187      3.5\n",
       "2     41     130   204       172      1.4\n",
       "3     56     120   236       178      0.8\n",
       "4     57     120   354       163      0.6\n",
       "..   ...     ...   ...       ...      ...\n",
       "297   57     140   241       123      0.2\n",
       "298   45     110   264       132      1.2\n",
       "299   68     144   193       141      3.4\n",
       "300   57     130   131       115      1.2\n",
       "301   57     130   236       174      0.0\n",
       "\n",
       "[302 rows x 5 columns]"
      ]
     },
     "execution_count": 26,
     "metadata": {},
     "output_type": "execute_result"
    }
   ],
   "source": [
    "columns_to_scale = df.iloc[:,[0,3,4,7,9,]]\n",
    "columns_to_scale"
   ]
  },
  {
   "cell_type": "code",
   "execution_count": 27,
   "id": "liked-cooperative",
   "metadata": {
    "execution": {
     "iopub.execute_input": "2021-05-03T06:29:32.325034Z",
     "iopub.status.busy": "2021-05-03T06:29:32.324387Z",
     "iopub.status.idle": "2021-05-03T06:29:32.341548Z",
     "shell.execute_reply": "2021-05-03T06:29:32.341008Z"
    },
    "papermill": {
     "duration": 0.082617,
     "end_time": "2021-05-03T06:29:32.341690",
     "exception": false,
     "start_time": "2021-05-03T06:29:32.259073",
     "status": "completed"
    },
    "tags": []
   },
   "outputs": [
    {
     "data": {
      "text/html": [
       "<div>\n",
       "<style scoped>\n",
       "    .dataframe tbody tr th:only-of-type {\n",
       "        vertical-align: middle;\n",
       "    }\n",
       "\n",
       "    .dataframe tbody tr th {\n",
       "        vertical-align: top;\n",
       "    }\n",
       "\n",
       "    .dataframe thead th {\n",
       "        text-align: right;\n",
       "    }\n",
       "</style>\n",
       "<table border=\"1\" class=\"dataframe\">\n",
       "  <thead>\n",
       "    <tr style=\"text-align: right;\">\n",
       "      <th></th>\n",
       "      <th>age</th>\n",
       "      <th>trtbps</th>\n",
       "      <th>chol</th>\n",
       "      <th>thalachh</th>\n",
       "      <th>oldpeak</th>\n",
       "    </tr>\n",
       "  </thead>\n",
       "  <tbody>\n",
       "    <tr>\n",
       "      <th>0</th>\n",
       "      <td>0.949794</td>\n",
       "      <td>0.764066</td>\n",
       "      <td>-0.261285</td>\n",
       "      <td>0.018826</td>\n",
       "      <td>1.084022</td>\n",
       "    </tr>\n",
       "    <tr>\n",
       "      <th>1</th>\n",
       "      <td>-1.928548</td>\n",
       "      <td>-0.091401</td>\n",
       "      <td>0.067741</td>\n",
       "      <td>1.636979</td>\n",
       "      <td>2.118926</td>\n",
       "    </tr>\n",
       "    <tr>\n",
       "      <th>2</th>\n",
       "      <td>-1.485726</td>\n",
       "      <td>-0.091401</td>\n",
       "      <td>-0.822564</td>\n",
       "      <td>0.980971</td>\n",
       "      <td>0.307844</td>\n",
       "    </tr>\n",
       "    <tr>\n",
       "      <th>3</th>\n",
       "      <td>0.174856</td>\n",
       "      <td>-0.661712</td>\n",
       "      <td>-0.203222</td>\n",
       "      <td>1.243374</td>\n",
       "      <td>-0.209608</td>\n",
       "    </tr>\n",
       "    <tr>\n",
       "      <th>4</th>\n",
       "      <td>0.285561</td>\n",
       "      <td>-0.661712</td>\n",
       "      <td>2.080602</td>\n",
       "      <td>0.587366</td>\n",
       "      <td>-0.382092</td>\n",
       "    </tr>\n",
       "    <tr>\n",
       "      <th>...</th>\n",
       "      <td>...</td>\n",
       "      <td>...</td>\n",
       "      <td>...</td>\n",
       "      <td>...</td>\n",
       "      <td>...</td>\n",
       "    </tr>\n",
       "    <tr>\n",
       "      <th>297</th>\n",
       "      <td>0.285561</td>\n",
       "      <td>0.478910</td>\n",
       "      <td>-0.106449</td>\n",
       "      <td>-1.161988</td>\n",
       "      <td>-0.727060</td>\n",
       "    </tr>\n",
       "    <tr>\n",
       "      <th>298</th>\n",
       "      <td>-1.042904</td>\n",
       "      <td>-1.232023</td>\n",
       "      <td>0.338703</td>\n",
       "      <td>-0.768384</td>\n",
       "      <td>0.135360</td>\n",
       "    </tr>\n",
       "    <tr>\n",
       "      <th>299</th>\n",
       "      <td>1.503322</td>\n",
       "      <td>0.707035</td>\n",
       "      <td>-1.035462</td>\n",
       "      <td>-0.374779</td>\n",
       "      <td>2.032684</td>\n",
       "    </tr>\n",
       "    <tr>\n",
       "      <th>300</th>\n",
       "      <td>0.285561</td>\n",
       "      <td>-0.091401</td>\n",
       "      <td>-2.235438</td>\n",
       "      <td>-1.511859</td>\n",
       "      <td>0.135360</td>\n",
       "    </tr>\n",
       "    <tr>\n",
       "      <th>301</th>\n",
       "      <td>0.285561</td>\n",
       "      <td>-0.091401</td>\n",
       "      <td>-0.203222</td>\n",
       "      <td>1.068439</td>\n",
       "      <td>-0.899544</td>\n",
       "    </tr>\n",
       "  </tbody>\n",
       "</table>\n",
       "<p>302 rows × 5 columns</p>\n",
       "</div>"
      ],
      "text/plain": [
       "          age    trtbps      chol  thalachh   oldpeak\n",
       "0    0.949794  0.764066 -0.261285  0.018826  1.084022\n",
       "1   -1.928548 -0.091401  0.067741  1.636979  2.118926\n",
       "2   -1.485726 -0.091401 -0.822564  0.980971  0.307844\n",
       "3    0.174856 -0.661712 -0.203222  1.243374 -0.209608\n",
       "4    0.285561 -0.661712  2.080602  0.587366 -0.382092\n",
       "..        ...       ...       ...       ...       ...\n",
       "297  0.285561  0.478910 -0.106449 -1.161988 -0.727060\n",
       "298 -1.042904 -1.232023  0.338703 -0.768384  0.135360\n",
       "299  1.503322  0.707035 -1.035462 -0.374779  2.032684\n",
       "300  0.285561 -0.091401 -2.235438 -1.511859  0.135360\n",
       "301  0.285561 -0.091401 -0.203222  1.068439 -0.899544\n",
       "\n",
       "[302 rows x 5 columns]"
      ]
     },
     "execution_count": 27,
     "metadata": {},
     "output_type": "execute_result"
    }
   ],
   "source": [
    "# Spliting the data\n",
    "from sklearn.model_selection import train_test_split\n",
    "\n",
    "X_train,X_test,y_train,y_test = train_test_split(X, y, test_size = 0.2, random_state = 42)\n",
    "\n",
    "ss = StandardScaler()\n",
    "scaled_values = ss.fit_transform(columns_to_scale)\n",
    "scaled_values = pd.DataFrame(scaled_values, columns=columns_to_scale.columns)\n",
    "scaled_values\n"
   ]
  },
  {
   "cell_type": "code",
   "execution_count": 28,
   "id": "bulgarian-kitchen",
   "metadata": {
    "execution": {
     "iopub.execute_input": "2021-05-03T06:29:32.471457Z",
     "iopub.status.busy": "2021-05-03T06:29:32.469979Z",
     "iopub.status.idle": "2021-05-03T06:29:32.483687Z",
     "shell.execute_reply": "2021-05-03T06:29:32.483173Z"
    },
    "papermill": {
     "duration": 0.08517,
     "end_time": "2021-05-03T06:29:32.483827",
     "exception": false,
     "start_time": "2021-05-03T06:29:32.398657",
     "status": "completed"
    },
    "tags": []
   },
   "outputs": [
    {
     "data": {
      "text/html": [
       "<div>\n",
       "<style scoped>\n",
       "    .dataframe tbody tr th:only-of-type {\n",
       "        vertical-align: middle;\n",
       "    }\n",
       "\n",
       "    .dataframe tbody tr th {\n",
       "        vertical-align: top;\n",
       "    }\n",
       "\n",
       "    .dataframe thead th {\n",
       "        text-align: right;\n",
       "    }\n",
       "</style>\n",
       "<table border=\"1\" class=\"dataframe\">\n",
       "  <thead>\n",
       "    <tr style=\"text-align: right;\">\n",
       "      <th></th>\n",
       "      <th>age</th>\n",
       "      <th>trtbps</th>\n",
       "      <th>chol</th>\n",
       "      <th>thalachh</th>\n",
       "      <th>oldpeak</th>\n",
       "      <th>sex</th>\n",
       "      <th>cp</th>\n",
       "      <th>fbs</th>\n",
       "      <th>restecg</th>\n",
       "      <th>exng</th>\n",
       "      <th>slp</th>\n",
       "      <th>caa</th>\n",
       "      <th>thall</th>\n",
       "      <th>output</th>\n",
       "    </tr>\n",
       "  </thead>\n",
       "  <tbody>\n",
       "    <tr>\n",
       "      <th>0</th>\n",
       "      <td>0.949794</td>\n",
       "      <td>0.764066</td>\n",
       "      <td>-0.261285</td>\n",
       "      <td>0.018826</td>\n",
       "      <td>1.084022</td>\n",
       "      <td>1</td>\n",
       "      <td>3</td>\n",
       "      <td>1</td>\n",
       "      <td>0</td>\n",
       "      <td>0</td>\n",
       "      <td>0</td>\n",
       "      <td>0</td>\n",
       "      <td>1</td>\n",
       "      <td>1</td>\n",
       "    </tr>\n",
       "    <tr>\n",
       "      <th>1</th>\n",
       "      <td>-1.928548</td>\n",
       "      <td>-0.091401</td>\n",
       "      <td>0.067741</td>\n",
       "      <td>1.636979</td>\n",
       "      <td>2.118926</td>\n",
       "      <td>1</td>\n",
       "      <td>2</td>\n",
       "      <td>0</td>\n",
       "      <td>1</td>\n",
       "      <td>0</td>\n",
       "      <td>0</td>\n",
       "      <td>0</td>\n",
       "      <td>2</td>\n",
       "      <td>1</td>\n",
       "    </tr>\n",
       "    <tr>\n",
       "      <th>2</th>\n",
       "      <td>-1.485726</td>\n",
       "      <td>-0.091401</td>\n",
       "      <td>-0.822564</td>\n",
       "      <td>0.980971</td>\n",
       "      <td>0.307844</td>\n",
       "      <td>0</td>\n",
       "      <td>1</td>\n",
       "      <td>0</td>\n",
       "      <td>0</td>\n",
       "      <td>0</td>\n",
       "      <td>2</td>\n",
       "      <td>0</td>\n",
       "      <td>2</td>\n",
       "      <td>1</td>\n",
       "    </tr>\n",
       "    <tr>\n",
       "      <th>3</th>\n",
       "      <td>0.174856</td>\n",
       "      <td>-0.661712</td>\n",
       "      <td>-0.203222</td>\n",
       "      <td>1.243374</td>\n",
       "      <td>-0.209608</td>\n",
       "      <td>1</td>\n",
       "      <td>1</td>\n",
       "      <td>0</td>\n",
       "      <td>1</td>\n",
       "      <td>0</td>\n",
       "      <td>2</td>\n",
       "      <td>0</td>\n",
       "      <td>2</td>\n",
       "      <td>1</td>\n",
       "    </tr>\n",
       "    <tr>\n",
       "      <th>4</th>\n",
       "      <td>0.285561</td>\n",
       "      <td>-0.661712</td>\n",
       "      <td>2.080602</td>\n",
       "      <td>0.587366</td>\n",
       "      <td>-0.382092</td>\n",
       "      <td>0</td>\n",
       "      <td>0</td>\n",
       "      <td>0</td>\n",
       "      <td>1</td>\n",
       "      <td>1</td>\n",
       "      <td>2</td>\n",
       "      <td>0</td>\n",
       "      <td>2</td>\n",
       "      <td>1</td>\n",
       "    </tr>\n",
       "    <tr>\n",
       "      <th>...</th>\n",
       "      <td>...</td>\n",
       "      <td>...</td>\n",
       "      <td>...</td>\n",
       "      <td>...</td>\n",
       "      <td>...</td>\n",
       "      <td>...</td>\n",
       "      <td>...</td>\n",
       "      <td>...</td>\n",
       "      <td>...</td>\n",
       "      <td>...</td>\n",
       "      <td>...</td>\n",
       "      <td>...</td>\n",
       "      <td>...</td>\n",
       "      <td>...</td>\n",
       "    </tr>\n",
       "    <tr>\n",
       "      <th>297</th>\n",
       "      <td>0.285561</td>\n",
       "      <td>0.478910</td>\n",
       "      <td>-0.106449</td>\n",
       "      <td>-1.161988</td>\n",
       "      <td>-0.727060</td>\n",
       "      <td>0</td>\n",
       "      <td>0</td>\n",
       "      <td>0</td>\n",
       "      <td>1</td>\n",
       "      <td>1</td>\n",
       "      <td>1</td>\n",
       "      <td>0</td>\n",
       "      <td>3</td>\n",
       "      <td>0</td>\n",
       "    </tr>\n",
       "    <tr>\n",
       "      <th>298</th>\n",
       "      <td>-1.042904</td>\n",
       "      <td>-1.232023</td>\n",
       "      <td>0.338703</td>\n",
       "      <td>-0.768384</td>\n",
       "      <td>0.135360</td>\n",
       "      <td>1</td>\n",
       "      <td>3</td>\n",
       "      <td>0</td>\n",
       "      <td>1</td>\n",
       "      <td>0</td>\n",
       "      <td>1</td>\n",
       "      <td>0</td>\n",
       "      <td>3</td>\n",
       "      <td>0</td>\n",
       "    </tr>\n",
       "    <tr>\n",
       "      <th>299</th>\n",
       "      <td>1.503322</td>\n",
       "      <td>0.707035</td>\n",
       "      <td>-1.035462</td>\n",
       "      <td>-0.374779</td>\n",
       "      <td>2.032684</td>\n",
       "      <td>1</td>\n",
       "      <td>0</td>\n",
       "      <td>1</td>\n",
       "      <td>1</td>\n",
       "      <td>0</td>\n",
       "      <td>1</td>\n",
       "      <td>2</td>\n",
       "      <td>3</td>\n",
       "      <td>0</td>\n",
       "    </tr>\n",
       "    <tr>\n",
       "      <th>300</th>\n",
       "      <td>0.285561</td>\n",
       "      <td>-0.091401</td>\n",
       "      <td>-2.235438</td>\n",
       "      <td>-1.511859</td>\n",
       "      <td>0.135360</td>\n",
       "      <td>1</td>\n",
       "      <td>0</td>\n",
       "      <td>0</td>\n",
       "      <td>1</td>\n",
       "      <td>1</td>\n",
       "      <td>1</td>\n",
       "      <td>1</td>\n",
       "      <td>3</td>\n",
       "      <td>0</td>\n",
       "    </tr>\n",
       "    <tr>\n",
       "      <th>301</th>\n",
       "      <td>0.285561</td>\n",
       "      <td>-0.091401</td>\n",
       "      <td>-0.203222</td>\n",
       "      <td>1.068439</td>\n",
       "      <td>-0.899544</td>\n",
       "      <td>0</td>\n",
       "      <td>1</td>\n",
       "      <td>0</td>\n",
       "      <td>0</td>\n",
       "      <td>0</td>\n",
       "      <td>1</td>\n",
       "      <td>1</td>\n",
       "      <td>2</td>\n",
       "      <td>0</td>\n",
       "    </tr>\n",
       "  </tbody>\n",
       "</table>\n",
       "<p>302 rows × 14 columns</p>\n",
       "</div>"
      ],
      "text/plain": [
       "          age    trtbps      chol  thalachh   oldpeak  sex  cp  fbs  restecg  \\\n",
       "0    0.949794  0.764066 -0.261285  0.018826  1.084022    1   3    1        0   \n",
       "1   -1.928548 -0.091401  0.067741  1.636979  2.118926    1   2    0        1   \n",
       "2   -1.485726 -0.091401 -0.822564  0.980971  0.307844    0   1    0        0   \n",
       "3    0.174856 -0.661712 -0.203222  1.243374 -0.209608    1   1    0        1   \n",
       "4    0.285561 -0.661712  2.080602  0.587366 -0.382092    0   0    0        1   \n",
       "..        ...       ...       ...       ...       ...  ...  ..  ...      ...   \n",
       "297  0.285561  0.478910 -0.106449 -1.161988 -0.727060    0   0    0        1   \n",
       "298 -1.042904 -1.232023  0.338703 -0.768384  0.135360    1   3    0        1   \n",
       "299  1.503322  0.707035 -1.035462 -0.374779  2.032684    1   0    1        1   \n",
       "300  0.285561 -0.091401 -2.235438 -1.511859  0.135360    1   0    0        1   \n",
       "301  0.285561 -0.091401 -0.203222  1.068439 -0.899544    0   1    0        0   \n",
       "\n",
       "     exng  slp  caa  thall  output  \n",
       "0       0    0    0      1       1  \n",
       "1       0    0    0      2       1  \n",
       "2       0    2    0      2       1  \n",
       "3       0    2    0      2       1  \n",
       "4       1    2    0      2       1  \n",
       "..    ...  ...  ...    ...     ...  \n",
       "297     1    1    0      3       0  \n",
       "298     0    1    0      3       0  \n",
       "299     0    1    2      3       0  \n",
       "300     1    1    1      3       0  \n",
       "301     0    1    1      2       0  \n",
       "\n",
       "[302 rows x 14 columns]"
      ]
     },
     "execution_count": 28,
     "metadata": {},
     "output_type": "execute_result"
    }
   ],
   "source": [
    "scaled_df = pd.concat([scaled_values,df.iloc[:,[1,2,5,6,8,10,11,12,13]]],axis=1)\n",
    "scaled_df"
   ]
  },
  {
   "cell_type": "code",
   "execution_count": 29,
   "id": "thousand-transcript",
   "metadata": {
    "execution": {
     "iopub.execute_input": "2021-05-03T06:29:32.605317Z",
     "iopub.status.busy": "2021-05-03T06:29:32.604558Z",
     "iopub.status.idle": "2021-05-03T06:29:32.607560Z",
     "shell.execute_reply": "2021-05-03T06:29:32.606986Z"
    },
    "papermill": {
     "duration": 0.066584,
     "end_time": "2021-05-03T06:29:32.607700",
     "exception": false,
     "start_time": "2021-05-03T06:29:32.541116",
     "status": "completed"
    },
    "tags": []
   },
   "outputs": [],
   "source": [
    "key = ['LogisticRegression','KNeighborsClassifier','SVC','DecisionTreeClassifier','RandomForestClassifier','GradientBoostingClassifier','AdaBoostClassifier','XGBClassifier']\n",
    "value = [LogisticRegression(random_state=9), KNeighborsClassifier(), SVC(), DecisionTreeClassifier(), RandomForestClassifier(), GradientBoostingClassifier(), AdaBoostClassifier(), xgb.XGBClassifier()]\n",
    "models = dict(zip(key,value))"
   ]
  },
  {
   "cell_type": "code",
   "execution_count": 30,
   "id": "supreme-budapest",
   "metadata": {
    "execution": {
     "iopub.execute_input": "2021-05-03T06:29:32.732375Z",
     "iopub.status.busy": "2021-05-03T06:29:32.731722Z",
     "iopub.status.idle": "2021-05-03T06:29:32.733537Z",
     "shell.execute_reply": "2021-05-03T06:29:32.734047Z"
    },
    "papermill": {
     "duration": 0.068962,
     "end_time": "2021-05-03T06:29:32.734199",
     "exception": false,
     "start_time": "2021-05-03T06:29:32.665237",
     "status": "completed"
    },
    "tags": []
   },
   "outputs": [],
   "source": [
    "predicted =[]"
   ]
  },
  {
   "cell_type": "code",
   "execution_count": 31,
   "id": "running-central",
   "metadata": {
    "execution": {
     "iopub.execute_input": "2021-05-03T06:29:32.851781Z",
     "iopub.status.busy": "2021-05-03T06:29:32.851166Z",
     "iopub.status.idle": "2021-05-03T06:29:32.858083Z",
     "shell.execute_reply": "2021-05-03T06:29:32.858611Z"
    },
    "papermill": {
     "duration": 0.06713,
     "end_time": "2021-05-03T06:29:32.858780",
     "exception": false,
     "start_time": "2021-05-03T06:29:32.791650",
     "status": "completed"
    },
    "tags": []
   },
   "outputs": [],
   "source": [
    "X = scaled_df.drop('output', axis = 1)\n",
    "y = scaled_df['output']\n",
    "X_train,X_test,y_train,y_test = train_test_split(X, y, test_size = 0.2, random_state = 42)"
   ]
  },
  {
   "cell_type": "code",
   "execution_count": 32,
   "id": "exterior-lincoln",
   "metadata": {
    "execution": {
     "iopub.execute_input": "2021-05-03T06:29:32.976659Z",
     "iopub.status.busy": "2021-05-03T06:29:32.976051Z",
     "iopub.status.idle": "2021-05-03T06:29:33.500209Z",
     "shell.execute_reply": "2021-05-03T06:29:33.500884Z"
    },
    "papermill": {
     "duration": 0.584833,
     "end_time": "2021-05-03T06:29:33.501068",
     "exception": false,
     "start_time": "2021-05-03T06:29:32.916235",
     "status": "completed"
    },
    "tags": []
   },
   "outputs": [
    {
     "name": "stdout",
     "output_type": "stream",
     "text": [
      "LogisticRegression 0.8360655737704918\n",
      "KNeighborsClassifier 0.8688524590163934\n",
      "SVC 0.8852459016393442\n",
      "DecisionTreeClassifier 0.8032786885245902\n",
      "RandomForestClassifier 0.8524590163934426\n",
      "GradientBoostingClassifier 0.8524590163934426\n",
      "AdaBoostClassifier 0.7868852459016393\n",
      "[06:29:33] WARNING: ../src/learner.cc:1095: Starting in XGBoost 1.3.0, the default evaluation metric used with the objective 'binary:logistic' was changed from 'error' to 'logloss'. Explicitly set eval_metric if you'd like to restore the old behavior.\n",
      "XGBClassifier 0.8524590163934426\n"
     ]
    }
   ],
   "source": [
    "for name,algo in models.items():\n",
    "    model=algo\n",
    "    model.fit(X_train,y_train)\n",
    "    predict = model.predict(X_test)\n",
    "    acc = accuracy_score(y_test, predict)\n",
    "    predicted.append(acc)\n",
    "    print(name,acc)"
   ]
  },
  {
   "cell_type": "code",
   "execution_count": 33,
   "id": "structured-fabric",
   "metadata": {
    "execution": {
     "iopub.execute_input": "2021-05-03T06:29:33.657078Z",
     "iopub.status.busy": "2021-05-03T06:29:33.633402Z",
     "iopub.status.idle": "2021-05-03T06:29:33.797254Z",
     "shell.execute_reply": "2021-05-03T06:29:33.797795Z"
    },
    "papermill": {
     "duration": 0.23609,
     "end_time": "2021-05-03T06:29:33.797965",
     "exception": false,
     "start_time": "2021-05-03T06:29:33.561875",
     "status": "completed"
    },
    "tags": []
   },
   "outputs": [
    {
     "data": {
      "text/plain": [
       "<AxesSubplot:>"
      ]
     },
     "execution_count": 33,
     "metadata": {},
     "output_type": "execute_result"
    },
    {
     "data": {
      "image/png": "[encoded data removed]",
      "text/plain": [
       "<Figure size 720x360 with 1 Axes>"
      ]
     },
     "metadata": {
      "needs_background": "light"
     },
     "output_type": "display_data"
    }
   ],
   "source": [
    "plt.figure(figsize = (10,5))\n",
    "sns.barplot(x = predicted, y = key, palette='pastel')"
   ]
  },
  {
   "cell_type": "markdown",
   "id": "convenient-night",
   "metadata": {
    "papermill": {
     "duration": 0.062708,
     "end_time": "2021-05-03T06:29:33.922023",
     "exception": false,
     "start_time": "2021-05-03T06:29:33.859315",
     "status": "completed"
    },
    "tags": []
   },
   "source": [
    "**Observation:**  From the above figure we can see that none of the above models give an accuracy greater than 90%. Let us try some other approach. Lets take some other random_state for Logistic Regression Model and see if the accuracy improves!"
   ]
  },
  {
   "cell_type": "code",
   "execution_count": 34,
   "id": "weekly-excellence",
   "metadata": {
    "execution": {
     "iopub.execute_input": "2021-05-03T06:29:34.045259Z",
     "iopub.status.busy": "2021-05-03T06:29:34.044657Z",
     "iopub.status.idle": "2021-05-03T06:29:35.339189Z",
     "shell.execute_reply": "2021-05-03T06:29:35.339715Z"
    },
    "papermill": {
     "duration": 1.357726,
     "end_time": "2021-05-03T06:29:35.339899",
     "exception": false,
     "start_time": "2021-05-03T06:29:33.982173",
     "status": "completed"
    },
    "tags": []
   },
   "outputs": [],
   "source": [
    "lr = LogisticRegression(solver='lbfgs', max_iter=10000)\n",
    "rs = []\n",
    "acc = []\n",
    "for i in range(1,100,1):\n",
    "    X_train,X_test,y_train,y_test = train_test_split(X, y, test_size = 0.2, random_state = i)    \n",
    "    model_lr_rs = lr.fit(X_train, y_train.values.ravel())\n",
    "    predict_values_lr_rs = model_lr_rs.predict(X_test)\n",
    "    acc.append(accuracy_score(y_test, predict_values_lr_rs))\n",
    "    rs.append(i)"
   ]
  },
  {
   "cell_type": "code",
   "execution_count": 35,
   "id": "loved-december",
   "metadata": {
    "execution": {
     "iopub.execute_input": "2021-05-03T06:29:35.464582Z",
     "iopub.status.busy": "2021-05-03T06:29:35.463904Z",
     "iopub.status.idle": "2021-05-03T06:29:35.619996Z",
     "shell.execute_reply": "2021-05-03T06:29:35.619330Z"
    },
    "papermill": {
     "duration": 0.219542,
     "end_time": "2021-05-03T06:29:35.620132",
     "exception": false,
     "start_time": "2021-05-03T06:29:35.400590",
     "status": "completed"
    },
    "tags": []
   },
   "outputs": [
    {
     "data": {
      "text/plain": [
       "[<matplotlib.lines.Line2D at 0x7f5c75286950>]"
      ]
     },
     "execution_count": 35,
     "metadata": {},
     "output_type": "execute_result"
    },
    {
     "data": {
      "image/png": "[encoded data removed]",
      "text/plain": [
       "<Figure size 720x720 with 1 Axes>"
      ]
     },
     "metadata": {
      "needs_background": "light"
     },
     "output_type": "display_data"
    }
   ],
   "source": [
    "plt.figure(figsize=(10,10))\n",
    "plt.plot(rs, acc)"
   ]
  },
  {
   "cell_type": "code",
   "execution_count": 36,
   "id": "unavailable-fitness",
   "metadata": {
    "execution": {
     "iopub.execute_input": "2021-05-03T06:29:35.762851Z",
     "iopub.status.busy": "2021-05-03T06:29:35.762151Z",
     "iopub.status.idle": "2021-05-03T06:29:35.797735Z",
     "shell.execute_reply": "2021-05-03T06:29:35.797127Z"
    },
    "papermill": {
     "duration": 0.114158,
     "end_time": "2021-05-03T06:29:35.797869",
     "exception": false,
     "start_time": "2021-05-03T06:29:35.683711",
     "status": "completed"
    },
    "tags": []
   },
   "outputs": [
    {
     "name": "stdout",
     "output_type": "stream",
     "text": [
      "1 0.8032786885245902\n",
      "2 0.8524590163934426\n",
      "3 0.8852459016393442\n",
      "4 0.8524590163934426\n",
      "5 0.819672131147541\n",
      "6 0.8360655737704918\n",
      "7 0.8524590163934426\n",
      "8 0.8688524590163934\n",
      "9 0.9180327868852459\n",
      "10 0.7704918032786885\n",
      "11 0.7868852459016393\n",
      "12 0.8688524590163934\n",
      "13 0.7704918032786885\n",
      "14 0.7704918032786885\n",
      "15 0.7049180327868853\n",
      "16 0.819672131147541\n",
      "17 0.8360655737704918\n",
      "18 0.8524590163934426\n",
      "19 0.8524590163934426\n",
      "20 0.8032786885245902\n",
      "21 0.8360655737704918\n",
      "22 0.7540983606557377\n",
      "23 0.8688524590163934\n",
      "24 0.8688524590163934\n",
      "25 0.8032786885245902\n",
      "26 0.8852459016393442\n",
      "27 0.819672131147541\n",
      "28 0.8360655737704918\n",
      "29 0.9180327868852459\n",
      "30 0.7704918032786885\n",
      "31 0.7868852459016393\n",
      "32 0.819672131147541\n",
      "33 0.819672131147541\n",
      "34 0.8360655737704918\n",
      "35 0.8032786885245902\n",
      "36 0.8360655737704918\n",
      "37 0.819672131147541\n",
      "38 0.8688524590163934\n",
      "39 0.7540983606557377\n",
      "40 0.8852459016393442\n",
      "41 0.7868852459016393\n",
      "42 0.8360655737704918\n",
      "43 0.9016393442622951\n",
      "44 0.8852459016393442\n",
      "45 0.8688524590163934\n",
      "46 0.8032786885245902\n",
      "47 0.819672131147541\n",
      "48 0.819672131147541\n",
      "49 0.8688524590163934\n",
      "50 0.7868852459016393\n",
      "51 0.8688524590163934\n",
      "52 0.8360655737704918\n",
      "53 0.7868852459016393\n",
      "54 0.8360655737704918\n",
      "55 0.8524590163934426\n",
      "56 0.8032786885245902\n",
      "57 0.7868852459016393\n",
      "58 0.7540983606557377\n",
      "59 0.7868852459016393\n",
      "60 0.8524590163934426\n",
      "61 0.8360655737704918\n",
      "62 0.8360655737704918\n",
      "63 0.8360655737704918\n",
      "64 0.8852459016393442\n",
      "65 0.8360655737704918\n",
      "66 0.8360655737704918\n",
      "67 0.8524590163934426\n",
      "68 0.8360655737704918\n",
      "69 0.8688524590163934\n",
      "70 0.8360655737704918\n",
      "71 0.7704918032786885\n",
      "72 0.8524590163934426\n",
      "73 0.8524590163934426\n",
      "74 0.7377049180327869\n",
      "75 0.8524590163934426\n",
      "76 0.7868852459016393\n",
      "77 0.8524590163934426\n",
      "78 0.8688524590163934\n",
      "79 0.8360655737704918\n",
      "80 0.8360655737704918\n",
      "81 0.8688524590163934\n",
      "82 0.819672131147541\n",
      "83 0.8360655737704918\n",
      "84 0.8360655737704918\n",
      "85 0.7704918032786885\n",
      "86 0.819672131147541\n",
      "87 0.7868852459016393\n",
      "88 0.7704918032786885\n",
      "89 0.8032786885245902\n",
      "90 0.7704918032786885\n",
      "91 0.7540983606557377\n",
      "92 0.8852459016393442\n",
      "93 0.8032786885245902\n",
      "94 0.8360655737704918\n",
      "95 0.8032786885245902\n",
      "96 0.8524590163934426\n",
      "97 0.7540983606557377\n",
      "98 0.8032786885245902\n",
      "99 0.8688524590163934\n"
     ]
    }
   ],
   "source": [
    "for i in range(len(rs)):\n",
    "    print(rs[i],acc[i])"
   ]
  },
  {
   "cell_type": "markdown",
   "id": "widespread-witch",
   "metadata": {
    "papermill": {
     "duration": 0.065067,
     "end_time": "2021-05-03T06:29:35.927660",
     "exception": false,
     "start_time": "2021-05-03T06:29:35.862593",
     "status": "completed"
    },
    "tags": []
   },
   "source": [
    "**Observation:** So accuracy the best prediction for Heart Attack chances is 91.8. But with different random state we should rely more on average of all accuracies."
   ]
  },
  {
   "cell_type": "markdown",
   "id": "first-starter",
   "metadata": {
    "papermill": {
     "duration": 0.063396,
     "end_time": "2021-05-03T06:29:36.054970",
     "exception": false,
     "start_time": "2021-05-03T06:29:35.991574",
     "status": "completed"
    },
    "tags": []
   },
   "source": [
    "# Conclusion: \n",
    "\n",
    "\n",
    "* Numeric Variables - No outliers were found!\n",
    "\n",
    "* High Blood Pressure, High Cholestrol and High Heart Rate leads to high chance of heart attack.\n",
    "\n",
    "* In the count of target showed up that we have more chance of heart attack details.\n",
    "\n",
    "* Age from 40-60 years have the high chance of heart attack.\n",
    "\n",
    "* Male gender has more chance of heart attack compared to female ones.\n",
    "\n",
    "* Highly Correlated factors in this dataset are :\n",
    "    * Age and trtbps (blood pressure rate)\n",
    "    * Age and chol (cholestrol level)"
   ]
  },
  {
   "cell_type": "code",
   "execution_count": null,
   "id": "weekly-effects",
   "metadata": {
    "papermill": {
     "duration": 0.063221,
     "end_time": "2021-05-03T06:29:36.182714",
     "exception": false,
     "start_time": "2021-05-03T06:29:36.119493",
     "status": "completed"
    },
    "tags": []
   },
   "outputs": [],
   "source": []
  }
 ],
 "metadata": {
  "kernelspec": {
   "display_name": "Python 3 (ipykernel)",
   "language": "python",
   "name": "python3"
  },
  "language_info": {
   "codemirror_mode": {
    "name": "ipython",
    "version": 3
   },
   "file_extension": ".py",
   "mimetype": "text/x-python",
   "name": "python",
   "nbconvert_exporter": "python",
   "pygments_lexer": "ipython3",
   "version": "3.9.13"
  },
  "papermill": {
   "default_parameters": {},
   "duration": 21.883524,
   "end_time": "2021-05-03T06:29:37.579329",
   "environment_variables": {},
   "exception": null,
   "input_path": "__notebook__.ipynb",
   "output_path": "__notebook__.ipynb",
   "parameters": {},
   "start_time": "2021-05-03T06:29:15.695805",
   "version": "2.3.3"
  }
 },
 "nbformat": 4,
 "nbformat_minor": 5
}
